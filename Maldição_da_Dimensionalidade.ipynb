{
 "cells": [
  {
   "cell_type": "markdown",
   "id": "senior-marshall",
   "metadata": {},
   "source": [
    "# Dados Não Normalizados"
   ]
  },
  {
   "cell_type": "code",
   "execution_count": 1,
   "id": "powerful-jordan",
   "metadata": {},
   "outputs": [],
   "source": [
    "from numpy.random import randn\n",
    "from scipy.spatial import distance\n",
    "import seaborn as sns\n",
    "import pandas as pd\n",
    "import numpy as np"
   ]
  },
  {
   "cell_type": "code",
   "execution_count": 2,
   "id": "quiet-discipline",
   "metadata": {},
   "outputs": [],
   "source": [
    "dim2 = randn(20,2)\n",
    "dim8 = randn(20,8)\n",
    "dim32 = randn(20,32)\n",
    "dim128 = randn(20,128)"
   ]
  },
  {
   "cell_type": "code",
   "execution_count": 3,
   "id": "compound-disclosure",
   "metadata": {},
   "outputs": [],
   "source": [
    "dist2 = []\n",
    "for i in dim2:\n",
    "    for j in dim2:\n",
    "        if distance.euclidean(i, j) != 0:\n",
    "            dist2.append(distance.euclidean(i, j))"
   ]
  },
  {
   "cell_type": "code",
   "execution_count": 4,
   "id": "about-tennis",
   "metadata": {},
   "outputs": [],
   "source": [
    "dist8 = []\n",
    "for i in dim8:\n",
    "    for j in dim8:\n",
    "        if distance.euclidean(i, j) != 0:\n",
    "            dist8.append(distance.euclidean(i, j))"
   ]
  },
  {
   "cell_type": "code",
   "execution_count": 5,
   "id": "favorite-offset",
   "metadata": {},
   "outputs": [],
   "source": [
    "dist32 = []\n",
    "for i in dim32:\n",
    "    for j in dim32:\n",
    "        if distance.euclidean(i, j) != 0:\n",
    "            dist32.append(distance.euclidean(i, j))"
   ]
  },
  {
   "cell_type": "code",
   "execution_count": 6,
   "id": "pending-secret",
   "metadata": {},
   "outputs": [],
   "source": [
    "dist128 = []\n",
    "for i in dim128:\n",
    "    for j in dim128:\n",
    "        if distance.euclidean(i, j) != 0:\n",
    "            dist128.append(distance.euclidean(i, j))"
   ]
  },
  {
   "cell_type": "code",
   "execution_count": 7,
   "id": "similar-soviet",
   "metadata": {},
   "outputs": [],
   "source": [
    "dist = dist2 + dist8 + dist32 + dist128\n",
    "hue = ['dist2']*len(dist2) + ['dist8']*len(dist8) + ['dist32']*len(dist32) + ['dist128']*len(dist128)"
   ]
  },
  {
   "cell_type": "code",
   "execution_count": 8,
   "id": "violent-wireless",
   "metadata": {},
   "outputs": [
    {
     "data": {
      "text/html": [
       "<div>\n",
       "<style scoped>\n",
       "    .dataframe tbody tr th:only-of-type {\n",
       "        vertical-align: middle;\n",
       "    }\n",
       "\n",
       "    .dataframe tbody tr th {\n",
       "        vertical-align: top;\n",
       "    }\n",
       "\n",
       "    .dataframe thead th {\n",
       "        text-align: right;\n",
       "    }\n",
       "</style>\n",
       "<table border=\"1\" class=\"dataframe\">\n",
       "  <thead>\n",
       "    <tr style=\"text-align: right;\">\n",
       "      <th></th>\n",
       "      <th>dist</th>\n",
       "      <th>hue</th>\n",
       "    </tr>\n",
       "  </thead>\n",
       "  <tbody>\n",
       "    <tr>\n",
       "      <th>0</th>\n",
       "      <td>1.21722</td>\n",
       "      <td>dist2</td>\n",
       "    </tr>\n",
       "    <tr>\n",
       "      <th>1</th>\n",
       "      <td>2.15569</td>\n",
       "      <td>dist2</td>\n",
       "    </tr>\n",
       "    <tr>\n",
       "      <th>2</th>\n",
       "      <td>2.70654</td>\n",
       "      <td>dist2</td>\n",
       "    </tr>\n",
       "    <tr>\n",
       "      <th>3</th>\n",
       "      <td>2.71773</td>\n",
       "      <td>dist2</td>\n",
       "    </tr>\n",
       "    <tr>\n",
       "      <th>4</th>\n",
       "      <td>2.38855</td>\n",
       "      <td>dist2</td>\n",
       "    </tr>\n",
       "    <tr>\n",
       "      <th>...</th>\n",
       "      <td>...</td>\n",
       "      <td>...</td>\n",
       "    </tr>\n",
       "    <tr>\n",
       "      <th>1515</th>\n",
       "      <td>15.8661</td>\n",
       "      <td>dist128</td>\n",
       "    </tr>\n",
       "    <tr>\n",
       "      <th>1516</th>\n",
       "      <td>13.9433</td>\n",
       "      <td>dist128</td>\n",
       "    </tr>\n",
       "    <tr>\n",
       "      <th>1517</th>\n",
       "      <td>15.3735</td>\n",
       "      <td>dist128</td>\n",
       "    </tr>\n",
       "    <tr>\n",
       "      <th>1518</th>\n",
       "      <td>15.5928</td>\n",
       "      <td>dist128</td>\n",
       "    </tr>\n",
       "    <tr>\n",
       "      <th>1519</th>\n",
       "      <td>14.312</td>\n",
       "      <td>dist128</td>\n",
       "    </tr>\n",
       "  </tbody>\n",
       "</table>\n",
       "<p>1520 rows × 2 columns</p>\n",
       "</div>"
      ],
      "text/plain": [
       "         dist      hue\n",
       "0     1.21722    dist2\n",
       "1     2.15569    dist2\n",
       "2     2.70654    dist2\n",
       "3     2.71773    dist2\n",
       "4     2.38855    dist2\n",
       "...       ...      ...\n",
       "1515  15.8661  dist128\n",
       "1516  13.9433  dist128\n",
       "1517  15.3735  dist128\n",
       "1518  15.5928  dist128\n",
       "1519   14.312  dist128\n",
       "\n",
       "[1520 rows x 2 columns]"
      ]
     },
     "execution_count": 8,
     "metadata": {},
     "output_type": "execute_result"
    }
   ],
   "source": [
    "data_dist = pd.DataFrame([dist, hue]).transpose()\n",
    "data_dist.columns = ['dist', 'hue']\n",
    "data_dist"
   ]
  },
  {
   "cell_type": "code",
   "execution_count": 9,
   "id": "sporting-dodge",
   "metadata": {},
   "outputs": [
    {
     "data": {
      "image/png": "[encoded data removed]",
      "text/plain": [
       "<Figure size 432x288 with 1 Axes>"
      ]
     },
     "metadata": {
      "needs_background": "light"
     },
     "output_type": "display_data"
    }
   ],
   "source": [
    "distancias = ['dist2', 'dist8', 'dist32', 'dist128']\n",
    "\n",
    "for distancia in distancias:\n",
    "    subset = data_dist[data_dist['hue'] == distancia]\n",
    "    \n",
    "    # Draw the density plot\n",
    "    sns.distplot(subset['dist'], hist = False, kde = True, kde_kws = {'linewidth': 3})"
   ]
  },
  {
   "cell_type": "markdown",
   "id": "athletic-papua",
   "metadata": {},
   "source": [
    "A curva em azul é referente às distâncias calculadas em dimensão 2, e a curva em vermelho para os dados calculados em dimensão 128. Conforme a dimensão aumenta podemos reparar que as distâncias entre os pontos também aumentam."
   ]
  },
  {
   "cell_type": "markdown",
   "id": "cultural-republic",
   "metadata": {},
   "source": [
    " # Normalizando os dados"
   ]
  },
  {
   "cell_type": "code",
   "execution_count": 10,
   "id": "joint-charger",
   "metadata": {},
   "outputs": [],
   "source": [
    "norm2 = np.linalg.norm(dist2)\n",
    "dist2_norm = list(dist2 / norm2)"
   ]
  },
  {
   "cell_type": "code",
   "execution_count": 11,
   "id": "bright-laundry",
   "metadata": {},
   "outputs": [],
   "source": [
    "norm8 = np.linalg.norm(dist8)\n",
    "dist8_norm = list(dist8 / norm8)"
   ]
  },
  {
   "cell_type": "code",
   "execution_count": 12,
   "id": "commercial-links",
   "metadata": {},
   "outputs": [],
   "source": [
    "norm32 = np.linalg.norm(dist32)\n",
    "dist32_norm = list(dist32 / norm32)"
   ]
  },
  {
   "cell_type": "code",
   "execution_count": 13,
   "id": "amber-celtic",
   "metadata": {},
   "outputs": [],
   "source": [
    "norm128 = np.linalg.norm(dist128)\n",
    "dist128_norm = list(dist128 / norm128)"
   ]
  },
  {
   "cell_type": "code",
   "execution_count": 14,
   "id": "broke-rolling",
   "metadata": {},
   "outputs": [],
   "source": [
    "dist_norm = dist2_norm + dist8_norm + dist32_norm + dist128_norm\n",
    "hue_norm = ['dist2']*len(dist2) + ['dist8']*len(dist8) + ['dist32']*len(dist32) + ['dist128']*len(dist128)"
   ]
  },
  {
   "cell_type": "code",
   "execution_count": 15,
   "id": "technical-receipt",
   "metadata": {},
   "outputs": [
    {
     "data": {
      "text/html": [
       "<div>\n",
       "<style scoped>\n",
       "    .dataframe tbody tr th:only-of-type {\n",
       "        vertical-align: middle;\n",
       "    }\n",
       "\n",
       "    .dataframe tbody tr th {\n",
       "        vertical-align: top;\n",
       "    }\n",
       "\n",
       "    .dataframe thead th {\n",
       "        text-align: right;\n",
       "    }\n",
       "</style>\n",
       "<table border=\"1\" class=\"dataframe\">\n",
       "  <thead>\n",
       "    <tr style=\"text-align: right;\">\n",
       "      <th></th>\n",
       "      <th>dist_norm</th>\n",
       "      <th>hue</th>\n",
       "    </tr>\n",
       "  </thead>\n",
       "  <tbody>\n",
       "    <tr>\n",
       "      <th>0</th>\n",
       "      <td>0.0312372</td>\n",
       "      <td>dist2</td>\n",
       "    </tr>\n",
       "    <tr>\n",
       "      <th>1</th>\n",
       "      <td>0.0553211</td>\n",
       "      <td>dist2</td>\n",
       "    </tr>\n",
       "    <tr>\n",
       "      <th>2</th>\n",
       "      <td>0.0694576</td>\n",
       "      <td>dist2</td>\n",
       "    </tr>\n",
       "    <tr>\n",
       "      <th>3</th>\n",
       "      <td>0.0697447</td>\n",
       "      <td>dist2</td>\n",
       "    </tr>\n",
       "    <tr>\n",
       "      <th>4</th>\n",
       "      <td>0.0612971</td>\n",
       "      <td>dist2</td>\n",
       "    </tr>\n",
       "    <tr>\n",
       "      <th>...</th>\n",
       "      <td>...</td>\n",
       "      <td>...</td>\n",
       "    </tr>\n",
       "    <tr>\n",
       "      <th>1515</th>\n",
       "      <td>0.0523275</td>\n",
       "      <td>dist128</td>\n",
       "    </tr>\n",
       "    <tr>\n",
       "      <th>1516</th>\n",
       "      <td>0.0459862</td>\n",
       "      <td>dist128</td>\n",
       "    </tr>\n",
       "    <tr>\n",
       "      <th>1517</th>\n",
       "      <td>0.0507029</td>\n",
       "      <td>dist128</td>\n",
       "    </tr>\n",
       "    <tr>\n",
       "      <th>1518</th>\n",
       "      <td>0.0514263</td>\n",
       "      <td>dist128</td>\n",
       "    </tr>\n",
       "    <tr>\n",
       "      <th>1519</th>\n",
       "      <td>0.0472019</td>\n",
       "      <td>dist128</td>\n",
       "    </tr>\n",
       "  </tbody>\n",
       "</table>\n",
       "<p>1520 rows × 2 columns</p>\n",
       "</div>"
      ],
      "text/plain": [
       "      dist_norm      hue\n",
       "0     0.0312372    dist2\n",
       "1     0.0553211    dist2\n",
       "2     0.0694576    dist2\n",
       "3     0.0697447    dist2\n",
       "4     0.0612971    dist2\n",
       "...         ...      ...\n",
       "1515  0.0523275  dist128\n",
       "1516  0.0459862  dist128\n",
       "1517  0.0507029  dist128\n",
       "1518  0.0514263  dist128\n",
       "1519  0.0472019  dist128\n",
       "\n",
       "[1520 rows x 2 columns]"
      ]
     },
     "execution_count": 15,
     "metadata": {},
     "output_type": "execute_result"
    }
   ],
   "source": [
    "data_dist_norm = pd.DataFrame([dist_norm, hue_norm]).transpose()\n",
    "data_dist_norm.columns = ['dist_norm', 'hue']\n",
    "data_dist_norm"
   ]
  },
  {
   "cell_type": "code",
   "execution_count": 16,
   "id": "secure-possession",
   "metadata": {},
   "outputs": [
    {
     "data": {
      "image/png": "[encoded data removed]",
      "text/plain": [
       "<Figure size 432x288 with 1 Axes>"
      ]
     },
     "metadata": {
      "needs_background": "light"
     },
     "output_type": "display_data"
    }
   ],
   "source": [
    "distancias = ['dist2', 'dist8', 'dist32', 'dist128']\n",
    "\n",
    "for distancia in distancias:\n",
    "    subset = data_dist_norm[data_dist_norm['hue'] == distancia]\n",
    "    \n",
    "    # Draw the density plot\n",
    "    sns.distplot(subset['dist_norm'], hist = False, kde = True,\n",
    "                 kde_kws = {'linewidth': 3})"
   ]
  },
  {
   "cell_type": "markdown",
   "id": "obvious-modem",
   "metadata": {},
   "source": [
    "Normalizando os dados podemos ver que a curva em vermelho (distâncias em dimensão 128) está bem concentrada, indicando que praticamente todos as distâncias assumem valores próximos."
   ]
  }
 ],
 "metadata": {
  "kernelspec": {
   "display_name": "Python 3",
   "language": "python",
   "name": "python3"
  },
  "language_info": {
   "codemirror_mode": {
    "name": "ipython",
    "version": 3
   },
   "file_extension": ".py",
   "mimetype": "text/x-python",
   "name": "python",
   "nbconvert_exporter": "python",
   "pygments_lexer": "ipython3",
   "version": "3.7.0"
  }
 },
 "nbformat": 4,
 "nbformat_minor": 5
}
